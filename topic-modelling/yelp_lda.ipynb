{
 "cells": [
  {
   "cell_type": "code",
   "execution_count": 1,
   "metadata": {},
   "outputs": [],
   "source": [
    "import pandas as pd\n",
    "df_set = pd.read_csv('unique_data.csv')"
   ]
  },
  {
   "cell_type": "code",
   "execution_count": 2,
   "metadata": {},
   "outputs": [],
   "source": [
    "import preprocess_df\n",
    "corpus = preprocess_df.load_corpus(df_set, 'review_text')\n",
    "docs = preprocess_df.corpus2docs(corpus)"
   ]
  },
  {
   "cell_type": "code",
   "execution_count": 3,
   "metadata": {},
   "outputs": [
    {
     "name": "stdout",
     "output_type": "stream",
     "text": [
      "[('good', 79165), ('food', 77236), ('place', 76621), ('like', 57688), ('great', 56575), ('one', 54279), ('also', 41122), ('service', 36109), ('would', 35331), ('menu', 32722), ('restaurant', 30601), ('love', 29556), ('chicken', 28560), ('always', 28223), ('well', 28210), ('come', 26739), ('nice', 26618), ('bar', 26511), ('delicious', 25891), ('make', 25736)]\n"
     ]
    }
   ],
   "source": [
    "import nltk\n",
    "from nltk.probability import FreqDist\n",
    "\n",
    "# Flatten the list of documents into a list of words\n",
    "words = [word for doc in docs for word in doc]\n",
    "\n",
    "# Get the frequency distribution\n",
    "freq_dist = FreqDist(words)\n",
    "\n",
    "print(freq_dist.most_common(20))\n",
    "\n",
    "# # Print the frequency of each word\n",
    "# for word, frequency in freq_dist.items():\n",
    "#     print(f'{word}: {frequency}')\n",
    "#get,time, really, go, back, try, ordered, order"
   ]
  },
  {
   "cell_type": "code",
   "execution_count": 4,
   "metadata": {},
   "outputs": [],
   "source": [
    "import gensim\n",
    "dictionary = gensim.corpora.Dictionary(docs)\n",
    "vecs = preprocess_df.docs2vecs(docs, dictionary)"
   ]
  },
  {
   "cell_type": "code",
   "execution_count": 7,
   "metadata": {},
   "outputs": [],
   "source": [
    "lda = gensim.models.ldamodel.LdaModel(corpus=vecs, id2word=dictionary, num_topics=5)\n"
   ]
  },
  {
   "cell_type": "code",
   "execution_count": 8,
   "metadata": {},
   "outputs": [
    {
     "name": "stdout",
     "output_type": "stream",
     "text": [
      "(0, '0.015*\"great\" + 0.014*\"bar\" + 0.013*\"beer\" + 0.009*\"food\" + 0.009*\"place\"')\n",
      "(1, '0.013*\"place\" + 0.011*\"pizza\" + 0.010*\"like\" + 0.009*\"good\" + 0.009*\"one\"')\n",
      "(2, '0.017*\"good\" + 0.017*\"food\" + 0.015*\"chicken\" + 0.011*\"place\" + 0.009*\"sauce\"')\n",
      "(3, '0.011*\"cream\" + 0.011*\"flavor\" + 0.009*\"delicious\" + 0.009*\"ice\" + 0.008*\"chocolate\"')\n",
      "(4, '0.012*\"food\" + 0.011*\"u\" + 0.009*\"would\" + 0.008*\"one\" + 0.008*\"came\"')\n"
     ]
    },
    {
     "ename": "IndexError",
     "evalue": "list index out of range",
     "output_type": "error",
     "traceback": [
      "\u001b[1;31m---------------------------------------------------------------------------\u001b[0m",
      "\u001b[1;31mIndexError\u001b[0m                                Traceback (most recent call last)",
      "Cell \u001b[1;32mIn[8], line 4\u001b[0m\n\u001b[0;32m      1\u001b[0m topics \u001b[38;5;241m=\u001b[39m lda\u001b[38;5;241m.\u001b[39mshow_topics(\u001b[38;5;241m10\u001b[39m, \u001b[38;5;241m5\u001b[39m)\n\u001b[0;32m      3\u001b[0m \u001b[38;5;28;01mfor\u001b[39;00m i \u001b[38;5;129;01min\u001b[39;00m \u001b[38;5;28mrange\u001b[39m(\u001b[38;5;241m0\u001b[39m, \u001b[38;5;241m10\u001b[39m):\n\u001b[1;32m----> 4\u001b[0m     \u001b[38;5;28mprint\u001b[39m(topics[i])\n",
      "\u001b[1;31mIndexError\u001b[0m: list index out of range"
     ]
    }
   ],
   "source": [
    "topics = lda.show_topics(10, 5)\n",
    "\n",
    "for i in range(0, 10):\n",
    "    print(topics[i])"
   ]
  },
  {
   "cell_type": "code",
   "execution_count": null,
   "metadata": {},
   "outputs": [],
   "source": []
  },
  {
   "cell_type": "code",
   "execution_count": null,
   "metadata": {},
   "outputs": [],
   "source": []
  }
 ],
 "metadata": {
  "kernelspec": {
   "display_name": "base",
   "language": "python",
   "name": "python3"
  },
  "language_info": {
   "codemirror_mode": {
    "name": "ipython",
    "version": 3
   },
   "file_extension": ".py",
   "mimetype": "text/x-python",
   "name": "python",
   "nbconvert_exporter": "python",
   "pygments_lexer": "ipython3",
   "version": "3.11.5"
  }
 },
 "nbformat": 4,
 "nbformat_minor": 2
}
