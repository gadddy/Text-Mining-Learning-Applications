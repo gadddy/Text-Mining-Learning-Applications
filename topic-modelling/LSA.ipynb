{
 "cells": [
  {
   "cell_type": "code",
   "execution_count": 2,
   "metadata": {},
   "outputs": [],
   "source": [
    "from sklearn.feature_extraction.text import TfidfVectorizer\n",
    "from sklearn.decomposition import TruncatedSVD\n",
    "import pandas as pd"
   ]
  },
  {
   "cell_type": "code",
   "execution_count": 4,
   "metadata": {},
   "outputs": [
    {
     "data": {
      "text/plain": [
       "0    Yet again.. Disappointed. Now they don't have ...\n",
       "1    Ok really?  When I see a bar that smells like ...\n",
       "2    The K-T is a decent place.  the bartenders are...\n",
       "3    Food four stars!!!!! Bartender shorting me 10 ...\n",
       "4    OK they get the star back for service.  Even a...\n",
       "Name: review_text, dtype: object"
      ]
     },
     "execution_count": 4,
     "metadata": {},
     "output_type": "execute_result"
    }
   ],
   "source": [
    "df = pd.read_csv('unique_data.csv')\n",
    "reviews = df[\"review_text\"]"
   ]
  },
  {
   "cell_type": "code",
   "execution_count": 8,
   "metadata": {},
   "outputs": [
    {
     "name": "stdout",
     "output_type": "stream",
     "text": [
      "Topic 1: good food place great like just time really service chicken\n",
      "Topic 2: pizza crust cheese pizzas slice toppings pepperoni sauce pie wings\n",
      "Topic 3: coffee great place beer staff friendly bar breakfast love location\n",
      "Topic 4: great food service sushi beer bar good hour place happy\n",
      "Topic 5: sushi roll rolls coffee fresh lunch thai love rice pizza\n",
      "Topic 6: great chicken breakfast coffee sandwich cheese love food delicious good\n",
      "Topic 7: ice cream burger beer sushi great chocolate bar fries flavors\n",
      "Topic 8: sushi burger breakfast fries coffee roll lunch rolls burgers sandwich\n",
      "Topic 9: good burger food place like store fries location don love\n",
      "Topic 10: ice cream food service good breakfast great burger chocolate came\n",
      "Topic 11: good coffee really pretty beer nice bar tacos chicken place\n",
      "Topic 12: tacos taco mexican salsa chips fish sushi love coffee place\n",
      "Topic 13: coffee burger thai tea great chicken pho fried wings rice\n",
      "Topic 14: place breakfast love ve best beer amazing eggs just like\n",
      "Topic 15: chicken great sandwich wings sushi place order got time beer\n",
      "Topic 16: great really sandwich bread cheese good just store wine meat\n",
      "Topic 17: love salad lunch happy hour place sandwich drinks soup tea\n",
      "Topic 18: place lunch pho tea great nice thai soup burger little\n",
      "Topic 19: nice staff store chicken place love friendly really happy location\n",
      "Topic 20: happy great hour lunch thai breakfast tea time pho store\n",
      "Topic 21: love beer salad wine food chicken selection delicious really fresh\n",
      "Topic 22: chicken salad great like lunch burger bar just don coffee\n",
      "Topic 23: food happy hour like cheese coffee fresh don store prices\n",
      "Topic 24: love bar tea location like great breakfast cheese service drinks\n",
      "Topic 25: love shrimp pho coffee seafood order oysters good wings crab\n",
      "Topic 26: tea fresh bar shrimp oysters store good hot seafood best\n",
      "Topic 27: pho salad fresh bar ve soup really friendly vietnamese staff\n",
      "Topic 28: thai like really just friendly staff don shrimp pad bar\n",
      "Topic 29: tea service place friendly wings like new beer location just\n",
      "Topic 30: thai best pad sandwich store service wine breakfast place salad\n",
      "Topic 31: wings cheese staff lunch friendly sauce hot wine order bbq\n",
      "Topic 32: wings pho service location donuts chocolate got lunch delicious hot\n",
      "Topic 33: bar sandwich new staff try friendly chicken good love store\n",
      "Topic 34: wings menu order salad new location good thai try restaurant\n",
      "Topic 35: ve sandwich menu service really wings delicious times nice love\n",
      "Topic 36: wine donuts order fresh chicken nice chocolate donut service sandwich\n",
      "Topic 37: really amazing best wait wings bbq lunch excellent tea service\n",
      "Topic 38: cheese really service shrimp order bar fried bagel location menu\n",
      "Topic 39: delicious wine pork service tacos bbq salad amazing wait excellent\n",
      "Topic 40: time fresh hot place bar bbq really location try excellent\n",
      "Topic 41: wine wings food just location breakfast ve fresh nice hot\n",
      "Topic 42: nice order bbq pork best menu donuts bar location like\n",
      "Topic 43: like nice tacos donuts time wings cheese try just area\n",
      "Topic 44: amazing time nice like come store favorite night hot don\n",
      "Topic 45: donuts night fries really food restaurant donut fish pork breakfast\n",
      "Topic 46: wine like fries hot got try restaurant delicious chocolate bar\n",
      "Topic 47: soup hot wait burger night wings mexican chocolate parking awesome\n",
      "Topic 48: hot fries dog just brunch soup menu really seating roll\n",
      "Topic 49: amazing hot pretty options dog free got stars vegan donuts\n",
      "Topic 50: new shrimp order awesome night pho pretty bbq delicious orleans\n"
     ]
    }
   ],
   "source": [
    "# Assuming 'df' is your pandas DataFrame containing the reviews\n",
    "# 'reviews' is the column containing the text of the reviews\n",
    "\n",
    "# Step 1: Create TF-IDF matrix\n",
    "tfidf_vectorizer = TfidfVectorizer(max_df=0.8, min_df=2, stop_words='english')\n",
    "tfidf_matrix = tfidf_vectorizer.fit_transform(reviews)\n",
    "\n",
    "# Step 2: Apply LSA\n",
    "num_topics = 50  # Number of topics\n",
    "lsa_model = TruncatedSVD(n_components=num_topics)\n",
    "lsa_topic_matrix = lsa_model.fit_transform(tfidf_matrix)\n",
    "\n",
    "# Step 3: Interpret topics\n",
    "terms = tfidf_vectorizer.get_feature_names_out()\n",
    "topic_key_terms = []\n",
    "for i, topic in enumerate(lsa_model.components_):\n",
    "    topic_terms = ' '.join([terms[idx] for idx in topic.argsort()[:-10 - 1:-1]])\n",
    "    topic_key_terms.append(topic_terms)\n",
    "    print(f\"Topic {i + 1}: {topic_terms}\")\n",
    "\n",
    "# Optional: Assign topics to documents\n",
    "topic_assignments = lsa_topic_matrix.argmax(axis=1) + 1\n",
    "df['topic'] = topic_assignments\n",
    "\n",
    "# Optional: Save results to a CSV file\n",
    "df.to_csv('lsa_topic_modeling_results.csv', index=False)"
   ]
  },
  {
   "cell_type": "code",
   "execution_count": null,
   "metadata": {},
   "outputs": [],
   "source": []
  }
 ],
 "metadata": {
  "kernelspec": {
   "display_name": "base",
   "language": "python",
   "name": "python3"
  },
  "language_info": {
   "codemirror_mode": {
    "name": "ipython",
    "version": 3
   },
   "file_extension": ".py",
   "mimetype": "text/x-python",
   "name": "python",
   "nbconvert_exporter": "python",
   "pygments_lexer": "ipython3",
   "version": "3.9.12"
  }
 },
 "nbformat": 4,
 "nbformat_minor": 2
}
