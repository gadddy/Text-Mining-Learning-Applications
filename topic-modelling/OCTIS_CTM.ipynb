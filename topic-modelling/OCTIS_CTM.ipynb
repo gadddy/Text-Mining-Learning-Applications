{
 "cells": [
  {
   "cell_type": "code",
   "execution_count": 1,
   "metadata": {},
   "outputs": [],
   "source": [
    "import pandas as pd\n",
    "df = pd.read_csv('unique_data.csv')\n",
    "\n",
    "import warnings\n",
    "warnings.filterwarnings(\"ignore\", category=DeprecationWarning)"
   ]
  },
  {
   "cell_type": "code",
   "execution_count": 2,
   "metadata": {},
   "outputs": [],
   "source": [
    "filtered_df = df[\"review_text\"]\n",
    "# filtered_df.to_csv('review.txt', index=False, header=False, sep='\\t')\n",
    "\n",
    "with open('review.txt', 'w') as file:\n",
    "    file.write(filtered_df.str.cat(sep='\\n'))"
   ]
  },
  {
   "cell_type": "code",
   "execution_count": 3,
   "metadata": {},
   "outputs": [
    {
     "name": "stderr",
     "output_type": "stream",
     "text": [
      "/Users/gadman/opt/anaconda3/lib/python3.9/site-packages/spacy/util.py:910: UserWarning: [W095] Model 'en_core_web_sm' (3.3.0) was trained with spaCy v3.3.0 and may not be 100% compatible with the current version (3.7.4). If you see errors or degraded performance, download a newer compatible model or retrain your custom model with the current spaCy version. For more details and available updates, run: python -m spacy validate\n",
      "  warnings.warn(warn_msg)\n",
      "100%|██████████| 580927/580927 [1:01:38<00:00, 157.06it/s]\n"
     ]
    },
    {
     "name": "stdout",
     "output_type": "stream",
     "text": [
      "created vocab\n",
      "73130\n"
     ]
    }
   ],
   "source": [
    "import os\n",
    "import string\n",
    "from octis.preprocessing.preprocessing import Preprocessing\n",
    "os.chdir(os.path.pardir)\n",
    "\n",
    "# Initialize preprocessing\n",
    "preprocessor = Preprocessing(vocabulary=None, max_features=None,\n",
    "                            remove_punctuation=True, punctuation=string.punctuation,\n",
    "                            lemmatize=True, stopword_list='english',\n",
    "                            min_chars=1, min_words_docs=0)\n",
    "# preprocess\n",
    "dataset = preprocessor.preprocess_dataset(documents_path=r'/Users/gadman/Documents/Projects/Text-Mining-Learning-Applications/topic-modelling/review.txt')"
   ]
  },
  {
   "cell_type": "code",
   "execution_count": 19,
   "metadata": {},
   "outputs": [
    {
     "ename": "Exception",
     "evalue": "error in saving the dataset",
     "output_type": "error",
     "traceback": [
      "\u001b[0;31m---------------------------------------------------------------------------\u001b[0m",
      "\u001b[0;31mTypeError\u001b[0m                                 Traceback (most recent call last)",
      "File \u001b[0;32m~/opt/anaconda3/lib/python3.9/site-packages/octis/dataset/dataset.py:281\u001b[0m, in \u001b[0;36mDataset.save\u001b[0;34m(self, path, multilabel)\u001b[0m\n\u001b[1;32m    280\u001b[0m \u001b[38;5;28;01mtry\u001b[39;00m:\n\u001b[0;32m--> 281\u001b[0m     partitions \u001b[38;5;241m=\u001b[39m \u001b[38;5;28;43mself\u001b[39;49m\u001b[38;5;241;43m.\u001b[39;49m\u001b[43mget_partitioned_corpus\u001b[49m\u001b[43m(\u001b[49m\u001b[43m)\u001b[49m\n\u001b[1;32m    282\u001b[0m     corpus, partition \u001b[38;5;241m=\u001b[39m [], []\n",
      "File \u001b[0;32m~/opt/anaconda3/lib/python3.9/site-packages/octis/dataset/dataset.py:42\u001b[0m, in \u001b[0;36mDataset.get_partitioned_corpus\u001b[0;34m(self, use_validation)\u001b[0m\n\u001b[1;32m     41\u001b[0m \u001b[38;5;28;01mdef\u001b[39;00m \u001b[38;5;21mget_partitioned_corpus\u001b[39m(\u001b[38;5;28mself\u001b[39m, use_validation\u001b[38;5;241m=\u001b[39m\u001b[38;5;28;01mTrue\u001b[39;00m):\n\u001b[0;32m---> 42\u001b[0m     \u001b[38;5;28;01mif\u001b[39;00m \u001b[38;5;124;43m\"\u001b[39;49m\u001b[38;5;124;43mlast-training-doc\u001b[39;49m\u001b[38;5;124;43m\"\u001b[39;49m\u001b[43m \u001b[49m\u001b[38;5;129;43;01min\u001b[39;49;00m\u001b[43m \u001b[49m\u001b[38;5;28;43mself\u001b[39;49m\u001b[38;5;241;43m.\u001b[39;49m\u001b[43m__metadata\u001b[49m:\n\u001b[1;32m     43\u001b[0m         last_training_doc \u001b[38;5;241m=\u001b[39m \u001b[38;5;28mself\u001b[39m\u001b[38;5;241m.\u001b[39m__metadata[\u001b[38;5;124m\"\u001b[39m\u001b[38;5;124mlast-training-doc\u001b[39m\u001b[38;5;124m\"\u001b[39m]\n",
      "\u001b[0;31mTypeError\u001b[0m: argument of type 'NoneType' is not iterable",
      "\nDuring handling of the above exception, another exception occurred:\n",
      "\u001b[0;31mException\u001b[0m                                 Traceback (most recent call last)",
      "Cell \u001b[0;32mIn[19], line 2\u001b[0m\n\u001b[1;32m      1\u001b[0m \u001b[38;5;66;03m# save the preprocessed dataset\u001b[39;00m\n\u001b[0;32m----> 2\u001b[0m \u001b[43mdataset\u001b[49m\u001b[38;5;241;43m.\u001b[39;49m\u001b[43msave\u001b[49m\u001b[43m(\u001b[49m\u001b[38;5;124;43m'\u001b[39;49m\u001b[38;5;124;43m./review_dataset\u001b[39;49m\u001b[38;5;124;43m'\u001b[39;49m\u001b[43m)\u001b[49m\n",
      "File \u001b[0;32m~/opt/anaconda3/lib/python3.9/site-packages/octis/dataset/dataset.py:312\u001b[0m, in \u001b[0;36mDataset.save\u001b[0;34m(self, path, multilabel)\u001b[0m\n\u001b[1;32m    309\u001b[0m     \u001b[38;5;28mself\u001b[39m\u001b[38;5;241m.\u001b[39mdataset_path \u001b[38;5;241m=\u001b[39m path\n\u001b[1;32m    311\u001b[0m \u001b[38;5;28;01mexcept\u001b[39;00m:\n\u001b[0;32m--> 312\u001b[0m     \u001b[38;5;28;01mraise\u001b[39;00m \u001b[38;5;167;01mException\u001b[39;00m(\u001b[38;5;124m\"\u001b[39m\u001b[38;5;124merror in saving the dataset\u001b[39m\u001b[38;5;124m\"\u001b[39m)\n",
      "\u001b[0;31mException\u001b[0m: error in saving the dataset"
     ]
    }
   ],
   "source": [
    "# save the preprocessed dataset\n",
    "dataset.save('./review_dataset')"
   ]
  },
  {
   "cell_type": "code",
   "execution_count": 18,
   "metadata": {},
   "outputs": [
    {
     "ename": "TypeError",
     "evalue": "argument of type 'NoneType' is not iterable",
     "output_type": "error",
     "traceback": [
      "\u001b[0;31m---------------------------------------------------------------------------\u001b[0m",
      "\u001b[0;31mTypeError\u001b[0m                                 Traceback (most recent call last)",
      "Cell \u001b[0;32mIn[18], line 9\u001b[0m\n\u001b[1;32m      4\u001b[0m \u001b[38;5;66;03m# Load a dataset\u001b[39;00m\n\u001b[1;32m      5\u001b[0m \u001b[38;5;66;03m# dataset = Dataset()\u001b[39;00m\n\u001b[1;32m      6\u001b[0m \u001b[38;5;66;03m# dataset.fetch_dataset(\"Europarl_IT\")\u001b[39;00m\n\u001b[1;32m      8\u001b[0m model_LDA \u001b[38;5;241m=\u001b[39m LDA(num_topics\u001b[38;5;241m=\u001b[39m\u001b[38;5;241m25\u001b[39m)  \u001b[38;5;66;03m# Create model\u001b[39;00m\n\u001b[0;32m----> 9\u001b[0m model_LDA_output \u001b[38;5;241m=\u001b[39m \u001b[43mmodel_LDA\u001b[49m\u001b[38;5;241;43m.\u001b[39;49m\u001b[43mtrain_model\u001b[49m\u001b[43m(\u001b[49m\u001b[43mdataset\u001b[49m\u001b[43m)\u001b[49m\n",
      "File \u001b[0;32m~/opt/anaconda3/lib/python3.9/site-packages/octis/models/LDA.py:169\u001b[0m, in \u001b[0;36mLDA.train_model\u001b[0;34m(self, dataset, hyperparams, top_words)\u001b[0m\n\u001b[1;32m    166\u001b[0m     hyperparams \u001b[38;5;241m=\u001b[39m {}\n\u001b[1;32m    168\u001b[0m \u001b[38;5;28;01mif\u001b[39;00m \u001b[38;5;28mself\u001b[39m\u001b[38;5;241m.\u001b[39muse_partitions:\n\u001b[0;32m--> 169\u001b[0m     train_corpus, test_corpus \u001b[38;5;241m=\u001b[39m \u001b[43mdataset\u001b[49m\u001b[38;5;241;43m.\u001b[39;49m\u001b[43mget_partitioned_corpus\u001b[49m\u001b[43m(\u001b[49m\n\u001b[1;32m    170\u001b[0m \u001b[43m        \u001b[49m\u001b[43muse_validation\u001b[49m\u001b[38;5;241;43m=\u001b[39;49m\u001b[38;5;28;43;01mFalse\u001b[39;49;00m\u001b[43m)\u001b[49m\n\u001b[1;32m    171\u001b[0m \u001b[38;5;28;01melse\u001b[39;00m:\n\u001b[1;32m    172\u001b[0m     train_corpus \u001b[38;5;241m=\u001b[39m dataset\u001b[38;5;241m.\u001b[39mget_corpus()\n",
      "File \u001b[0;32m~/opt/anaconda3/lib/python3.9/site-packages/octis/dataset/dataset.py:42\u001b[0m, in \u001b[0;36mDataset.get_partitioned_corpus\u001b[0;34m(self, use_validation)\u001b[0m\n\u001b[1;32m     41\u001b[0m \u001b[38;5;28;01mdef\u001b[39;00m \u001b[38;5;21mget_partitioned_corpus\u001b[39m(\u001b[38;5;28mself\u001b[39m, use_validation\u001b[38;5;241m=\u001b[39m\u001b[38;5;28;01mTrue\u001b[39;00m):\n\u001b[0;32m---> 42\u001b[0m     \u001b[38;5;28;01mif\u001b[39;00m \u001b[38;5;124;43m\"\u001b[39;49m\u001b[38;5;124;43mlast-training-doc\u001b[39;49m\u001b[38;5;124;43m\"\u001b[39;49m\u001b[43m \u001b[49m\u001b[38;5;129;43;01min\u001b[39;49;00m\u001b[43m \u001b[49m\u001b[38;5;28;43mself\u001b[39;49m\u001b[38;5;241;43m.\u001b[39;49m\u001b[43m__metadata\u001b[49m:\n\u001b[1;32m     43\u001b[0m         last_training_doc \u001b[38;5;241m=\u001b[39m \u001b[38;5;28mself\u001b[39m\u001b[38;5;241m.\u001b[39m__metadata[\u001b[38;5;124m\"\u001b[39m\u001b[38;5;124mlast-training-doc\u001b[39m\u001b[38;5;124m\"\u001b[39m]\n\u001b[1;32m     44\u001b[0m         \u001b[38;5;28;01mif\u001b[39;00m use_validation:\n",
      "\u001b[0;31mTypeError\u001b[0m: argument of type 'NoneType' is not iterable"
     ]
    }
   ],
   "source": [
    "from octis.dataset.dataset import Dataset\n",
    "from octis.models.LDA import LDA\n",
    "\n",
    "# Load a dataset\n",
    "# dataset = Dataset()\n",
    "# dataset.fetch_dataset(\"Europarl_IT\")\n",
    "\n",
    "model_LDA = LDA(num_topics=25)  # Create model\n",
    "model_LDA_output = model_LDA.train_model(dataset) # Train the model"
   ]
  },
  {
   "cell_type": "code",
   "execution_count": 17,
   "metadata": {},
   "outputs": [
    {
     "ename": "NameError",
     "evalue": "name 'model_LDA_output' is not defined",
     "output_type": "error",
     "traceback": [
      "\u001b[0;31m---------------------------------------------------------------------------\u001b[0m",
      "\u001b[0;31mNameError\u001b[0m                                 Traceback (most recent call last)",
      "Cell \u001b[0;32mIn[17], line 1\u001b[0m\n\u001b[0;32m----> 1\u001b[0m \u001b[38;5;28mprint\u001b[39m(\u001b[43mmodel_LDA_output\u001b[49m\u001b[38;5;241m.\u001b[39mkeys())\n",
      "\u001b[0;31mNameError\u001b[0m: name 'model_LDA_output' is not defined"
     ]
    }
   ],
   "source": [
    "print(model_LDA_output.keys())\n"
   ]
  },
  {
   "cell_type": "code",
   "execution_count": 15,
   "metadata": {},
   "outputs": [
    {
     "name": "stdout",
     "output_type": "stream",
     "text": [
      "new location restaurant place city drive area favorite tampa visit\n",
      "employee totally dish pasta brisket min bbq line weird side\n",
      "coffee store shop buy local market find sell bagel like\n",
      "live music game night play fun watch pho kid hotel\n",
      "food great place good love service amazing friendly restaurant awesome\n",
      "review time place go yelp know visit read friend night\n",
      "recommend dog highly overall check definitely compare lamb station cheap\n",
      "sandwich lunch breakfast good salad special baked healthy egg day\n",
      "chicken good sauce fry order like rice shrimp pork dish\n",
      "burger salad fry good cheese mushroom smoke avocado bun turkey\n",
      "service star friendly good food staff customer time experience server\n",
      "thai cookie card juice cash pastry smell wide free s\n",
      "soup bowl free entree lobster roast gluten club salad chili\n",
      "parking lot street find event easily easy th center corner\n",
      "dessert sweet chocolate flavor cake cream like good delicious donut\n",
      "tip burrito birthday speak know gem question save problem money\n",
      "bar table inside outside sit place like area nice seating\n",
      "happy hour come roll sushi dinner time order look go\n",
      "beer drink wine ice selection cream bar cocktail glass good\n",
      "menu price food option item good quality try high small\n",
      "tea update oh st chinese good blue try place thank\n",
      "order wait time come minute get take long ask tell\n",
      "pizza cheese bread good order tomato onion slice egg bacon\n",
      "year old ago pricey diner pop mom place tucson time\n",
      "sunday brunch open disappoint night close place day try weekend\n"
     ]
    }
   ],
   "source": [
    "for topic in model_LDA_output[\"topics\"]:\n",
    "    print(\" \".join(topic))"
   ]
  },
  {
   "cell_type": "code",
   "execution_count": 5,
   "metadata": {},
   "outputs": [
    {
     "data": {
      "text/plain": [
       "0.054537126125294606"
      ]
     },
     "execution_count": 5,
     "metadata": {},
     "output_type": "execute_result"
    }
   ],
   "source": [
    "from octis.evaluation_metrics.coherence_metrics import Coherence\n",
    "npmi = Coherence(texts=dataset.get_corpus())\n",
    "score = npmi.score(model_output)\n",
    "score\n"
   ]
  },
  {
   "cell_type": "code",
   "execution_count": 8,
   "metadata": {},
   "outputs": [
    {
     "ename": "TypeError",
     "evalue": "argument of type 'NoneType' is not iterable",
     "output_type": "error",
     "traceback": [
      "\u001b[0;31m---------------------------------------------------------------------------\u001b[0m",
      "\u001b[0;31mTypeError\u001b[0m                                 Traceback (most recent call last)",
      "Cell \u001b[0;32mIn[8], line 6\u001b[0m\n\u001b[1;32m      3\u001b[0m dataset \u001b[38;5;241m=\u001b[39m Dataset()\n\u001b[1;32m      5\u001b[0m model_CTM \u001b[38;5;241m=\u001b[39m CTM(num_topics \u001b[38;5;241m=\u001b[39m \u001b[38;5;241m50\u001b[39m, num_epochs \u001b[38;5;241m=\u001b[39m \u001b[38;5;241m30\u001b[39m, bert_model\u001b[38;5;241m=\u001b[39m\u001b[38;5;124m\"\u001b[39m\u001b[38;5;124mbert-base-nli-mean-tokens\u001b[39m\u001b[38;5;124m\"\u001b[39m)\n\u001b[0;32m----> 6\u001b[0m model__CTM_output \u001b[38;5;241m=\u001b[39m \u001b[43mmodel\u001b[49m\u001b[38;5;241;43m.\u001b[39;49m\u001b[43mtrain_model\u001b[49m\u001b[43m(\u001b[49m\u001b[43mdataset\u001b[49m\u001b[43m)\u001b[49m\n",
      "File \u001b[0;32m~/opt/anaconda3/lib/python3.9/site-packages/octis/models/LDA.py:169\u001b[0m, in \u001b[0;36mLDA.train_model\u001b[0;34m(self, dataset, hyperparams, top_words)\u001b[0m\n\u001b[1;32m    166\u001b[0m     hyperparams \u001b[38;5;241m=\u001b[39m {}\n\u001b[1;32m    168\u001b[0m \u001b[38;5;28;01mif\u001b[39;00m \u001b[38;5;28mself\u001b[39m\u001b[38;5;241m.\u001b[39muse_partitions:\n\u001b[0;32m--> 169\u001b[0m     train_corpus, test_corpus \u001b[38;5;241m=\u001b[39m \u001b[43mdataset\u001b[49m\u001b[38;5;241;43m.\u001b[39;49m\u001b[43mget_partitioned_corpus\u001b[49m\u001b[43m(\u001b[49m\n\u001b[1;32m    170\u001b[0m \u001b[43m        \u001b[49m\u001b[43muse_validation\u001b[49m\u001b[38;5;241;43m=\u001b[39;49m\u001b[38;5;28;43;01mFalse\u001b[39;49;00m\u001b[43m)\u001b[49m\n\u001b[1;32m    171\u001b[0m \u001b[38;5;28;01melse\u001b[39;00m:\n\u001b[1;32m    172\u001b[0m     train_corpus \u001b[38;5;241m=\u001b[39m dataset\u001b[38;5;241m.\u001b[39mget_corpus()\n",
      "File \u001b[0;32m~/opt/anaconda3/lib/python3.9/site-packages/octis/dataset/dataset.py:42\u001b[0m, in \u001b[0;36mDataset.get_partitioned_corpus\u001b[0;34m(self, use_validation)\u001b[0m\n\u001b[1;32m     41\u001b[0m \u001b[38;5;28;01mdef\u001b[39;00m \u001b[38;5;21mget_partitioned_corpus\u001b[39m(\u001b[38;5;28mself\u001b[39m, use_validation\u001b[38;5;241m=\u001b[39m\u001b[38;5;28;01mTrue\u001b[39;00m):\n\u001b[0;32m---> 42\u001b[0m     \u001b[38;5;28;01mif\u001b[39;00m \u001b[38;5;124;43m\"\u001b[39;49m\u001b[38;5;124;43mlast-training-doc\u001b[39;49m\u001b[38;5;124;43m\"\u001b[39;49m\u001b[43m \u001b[49m\u001b[38;5;129;43;01min\u001b[39;49;00m\u001b[43m \u001b[49m\u001b[38;5;28;43mself\u001b[39;49m\u001b[38;5;241;43m.\u001b[39;49m\u001b[43m__metadata\u001b[49m:\n\u001b[1;32m     43\u001b[0m         last_training_doc \u001b[38;5;241m=\u001b[39m \u001b[38;5;28mself\u001b[39m\u001b[38;5;241m.\u001b[39m__metadata[\u001b[38;5;124m\"\u001b[39m\u001b[38;5;124mlast-training-doc\u001b[39m\u001b[38;5;124m\"\u001b[39m]\n\u001b[1;32m     44\u001b[0m         \u001b[38;5;28;01mif\u001b[39;00m use_validation:\n",
      "\u001b[0;31mTypeError\u001b[0m: argument of type 'NoneType' is not iterable"
     ]
    }
   ],
   "source": [
    "from octis.dataset.dataset import Dataset\n",
    "from octis.models.CTM import CTM\n",
    "dataset = Dataset()\n",
    "\n",
    "model_CTM = CTM(num_topics = 50, num_epochs = 30, bert_model=\"bert-base-nli-mean-tokens\")\n",
    "model__CTM_output = model.train_model(dataset)"
   ]
  },
  {
   "cell_type": "code",
   "execution_count": null,
   "metadata": {},
   "outputs": [],
   "source": []
  },
  {
   "cell_type": "code",
   "execution_count": null,
   "metadata": {},
   "outputs": [],
   "source": []
  }
 ],
 "metadata": {
  "kernelspec": {
   "display_name": "base",
   "language": "python",
   "name": "python3"
  },
  "language_info": {
   "codemirror_mode": {
    "name": "ipython",
    "version": 3
   },
   "file_extension": ".py",
   "mimetype": "text/x-python",
   "name": "python",
   "nbconvert_exporter": "python",
   "pygments_lexer": "ipython3",
   "version": "3.9.12"
  }
 },
 "nbformat": 4,
 "nbformat_minor": 2
}
