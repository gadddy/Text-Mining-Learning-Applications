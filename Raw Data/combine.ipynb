{
 "cells": [
  {
   "cell_type": "markdown",
   "metadata": {},
   "source": [
    "# 1. Importing Libraries\n",
    "Load all necessary libraries"
   ]
  },
  {
   "cell_type": "code",
   "execution_count": 2,
   "metadata": {},
   "outputs": [],
   "source": [
    "import pandas as pd\n",
    "import json\n",
    "import csv\n",
    "pd.set_option('display.max_rows', 100)\n",
    "pd.set_option('display.max_columns', 100)\n",
    "pd.set_option('display.width', 1000)"
   ]
  },
  {
   "cell_type": "markdown",
   "metadata": {},
   "source": [
    "# 2. Data preparation"
   ]
  },
  {
   "cell_type": "code",
   "execution_count": 3,
   "metadata": {},
   "outputs": [
    {
     "name": "stdout",
     "output_type": "stream",
     "text": [
      "Total number of review: 6990280\n"
     ]
    },
    {
     "name": "stderr",
     "output_type": "stream",
     "text": [
      "/var/folders/65/tfbhbzks1fs0pv0gc822ry700000gn/T/ipykernel_20843/235246091.py:4: DtypeWarning: Columns (4) have mixed types. Specify dtype option on import or set low_memory=False.\n",
      "  user_df = pd.read_csv(\"user_data.csv\")\n"
     ]
    },
    {
     "name": "stdout",
     "output_type": "stream",
     "text": [
      "Total number of user: 1987897\n",
      "Total number of tip: 908915\n",
      "Total number of business: 150346\n"
     ]
    }
   ],
   "source": [
    "review_df = pd.read_csv(\"review_data.csv\")\n",
    "print(\"Total number of review:\", len(review_df))\n",
    "\n",
    "user_df = pd.read_csv(\"user_data.csv\")\n",
    "print(\"Total number of user:\", len(user_df))\n",
    "\n",
    "# checkin_df = pd.read_csv(\"checkin_data.csv\")\n",
    "# print(\"Total number of checkin:\", len(checkin_df))\n",
    "\n",
    "tip_df = pd.read_csv(\"tip_data.csv\")\n",
    "print(\"Total number of tip:\", len(tip_df))\n",
    "\n",
    "\n",
    "business_df = pd.read_csv(\"business_data.csv\")\n",
    "print(\"Total number of business:\", len(business_df))"
   ]
  },
  {
   "cell_type": "markdown",
   "metadata": {},
   "source": [
    "## 2.1 Renaming of columns in review_df.csv"
   ]
  },
  {
   "cell_type": "code",
   "execution_count": 4,
   "metadata": {},
   "outputs": [
    {
     "data": {
      "text/html": [
       "<div>\n",
       "<style scoped>\n",
       "    .dataframe tbody tr th:only-of-type {\n",
       "        vertical-align: middle;\n",
       "    }\n",
       "\n",
       "    .dataframe tbody tr th {\n",
       "        vertical-align: top;\n",
       "    }\n",
       "\n",
       "    .dataframe thead th {\n",
       "        text-align: right;\n",
       "    }\n",
       "</style>\n",
       "<table border=\"1\" class=\"dataframe\">\n",
       "  <thead>\n",
       "    <tr style=\"text-align: right;\">\n",
       "      <th></th>\n",
       "      <th>review_id</th>\n",
       "      <th>user_id</th>\n",
       "      <th>business_id</th>\n",
       "      <th>review_stars</th>\n",
       "      <th>review_date</th>\n",
       "      <th>review_text</th>\n",
       "      <th>review_useful</th>\n",
       "      <th>review_funny</th>\n",
       "      <th>review_cool</th>\n",
       "    </tr>\n",
       "  </thead>\n",
       "  <tbody>\n",
       "    <tr>\n",
       "      <th>0</th>\n",
       "      <td>KU_O5udG6zpxOg-VcAEodg</td>\n",
       "      <td>mh_-eMZ6K5RLWhZyISBhwA</td>\n",
       "      <td>XQfwVwDr-v0ZS3_CbbE5Xw</td>\n",
       "      <td>3.0</td>\n",
       "      <td>2018-07-07 22:09:11</td>\n",
       "      <td>If you decide to eat here, just be aware it is...</td>\n",
       "      <td>0</td>\n",
       "      <td>0</td>\n",
       "      <td>0</td>\n",
       "    </tr>\n",
       "    <tr>\n",
       "      <th>1</th>\n",
       "      <td>BiTunyQ73aT9WBnpR9DZGw</td>\n",
       "      <td>OyoGAe7OKpv6SyGZT5g77Q</td>\n",
       "      <td>7ATYjTIgM3jUlt4UM3IypQ</td>\n",
       "      <td>5.0</td>\n",
       "      <td>2012-01-03 15:28:18</td>\n",
       "      <td>I've taken a lot of spin classes over the year...</td>\n",
       "      <td>1</td>\n",
       "      <td>0</td>\n",
       "      <td>1</td>\n",
       "    </tr>\n",
       "    <tr>\n",
       "      <th>2</th>\n",
       "      <td>saUsX_uimxRlCVr67Z4Jig</td>\n",
       "      <td>8g_iMtfSiwikVnbP2etR0A</td>\n",
       "      <td>YjUWPpI6HXG530lwP-fb2A</td>\n",
       "      <td>3.0</td>\n",
       "      <td>2014-02-05 20:30:30</td>\n",
       "      <td>Family diner. Had the buffet. Eclectic assortm...</td>\n",
       "      <td>0</td>\n",
       "      <td>0</td>\n",
       "      <td>0</td>\n",
       "    </tr>\n",
       "    <tr>\n",
       "      <th>3</th>\n",
       "      <td>AqPFMleE6RsU23_auESxiA</td>\n",
       "      <td>_7bHUi9Uuf5__HHc_Q8guQ</td>\n",
       "      <td>kxX2SOes4o-D3ZQBkiMRfA</td>\n",
       "      <td>5.0</td>\n",
       "      <td>2015-01-04 00:01:03</td>\n",
       "      <td>Wow!  Yummy, different,  delicious.   Our favo...</td>\n",
       "      <td>1</td>\n",
       "      <td>0</td>\n",
       "      <td>1</td>\n",
       "    </tr>\n",
       "    <tr>\n",
       "      <th>4</th>\n",
       "      <td>Sx8TMOWLNuJBWer-0pcmoA</td>\n",
       "      <td>bcjbaE6dDog4jkNY91ncLQ</td>\n",
       "      <td>e4Vwtrqf-wpJfwesgvdgxQ</td>\n",
       "      <td>4.0</td>\n",
       "      <td>2017-01-14 20:54:15</td>\n",
       "      <td>Cute interior and owner (?) gave us tour of up...</td>\n",
       "      <td>1</td>\n",
       "      <td>0</td>\n",
       "      <td>1</td>\n",
       "    </tr>\n",
       "  </tbody>\n",
       "</table>\n",
       "</div>"
      ],
      "text/plain": [
       "                review_id                 user_id             business_id  review_stars          review_date                                        review_text  review_useful  review_funny  review_cool\n",
       "0  KU_O5udG6zpxOg-VcAEodg  mh_-eMZ6K5RLWhZyISBhwA  XQfwVwDr-v0ZS3_CbbE5Xw           3.0  2018-07-07 22:09:11  If you decide to eat here, just be aware it is...              0             0            0\n",
       "1  BiTunyQ73aT9WBnpR9DZGw  OyoGAe7OKpv6SyGZT5g77Q  7ATYjTIgM3jUlt4UM3IypQ           5.0  2012-01-03 15:28:18  I've taken a lot of spin classes over the year...              1             0            1\n",
       "2  saUsX_uimxRlCVr67Z4Jig  8g_iMtfSiwikVnbP2etR0A  YjUWPpI6HXG530lwP-fb2A           3.0  2014-02-05 20:30:30  Family diner. Had the buffet. Eclectic assortm...              0             0            0\n",
       "3  AqPFMleE6RsU23_auESxiA  _7bHUi9Uuf5__HHc_Q8guQ  kxX2SOes4o-D3ZQBkiMRfA           5.0  2015-01-04 00:01:03  Wow!  Yummy, different,  delicious.   Our favo...              1             0            1\n",
       "4  Sx8TMOWLNuJBWer-0pcmoA  bcjbaE6dDog4jkNY91ncLQ  e4Vwtrqf-wpJfwesgvdgxQ           4.0  2017-01-14 20:54:15  Cute interior and owner (?) gave us tour of up...              1             0            1"
      ]
     },
     "execution_count": 4,
     "metadata": {},
     "output_type": "execute_result"
    }
   ],
   "source": [
    "review_df = review_df.rename(columns={\n",
    "    'stars': 'review_stars',\n",
    "    'date': 'review_date',\n",
    "    'text': 'review_text',\n",
    "    'useful': 'review_useful',\n",
    "    'funny': 'review_funny',\n",
    "    'cool': 'review_cool'\n",
    "})\n",
    "review_df.head()"
   ]
  },
  {
   "cell_type": "markdown",
   "metadata": {},
   "source": [
    "## 2.2 Renaming of columns in user_df.csv"
   ]
  },
  {
   "cell_type": "code",
   "execution_count": 5,
   "metadata": {},
   "outputs": [
    {
     "data": {
      "text/html": [
       "<div>\n",
       "<style scoped>\n",
       "    .dataframe tbody tr th:only-of-type {\n",
       "        vertical-align: middle;\n",
       "    }\n",
       "\n",
       "    .dataframe tbody tr th {\n",
       "        vertical-align: top;\n",
       "    }\n",
       "\n",
       "    .dataframe thead th {\n",
       "        text-align: right;\n",
       "    }\n",
       "</style>\n",
       "<table border=\"1\" class=\"dataframe\">\n",
       "  <thead>\n",
       "    <tr style=\"text-align: right;\">\n",
       "      <th></th>\n",
       "      <th>user_id</th>\n",
       "      <th>user_name</th>\n",
       "      <th>user_review_count</th>\n",
       "      <th>user_yelping_since</th>\n",
       "      <th>user_friends</th>\n",
       "      <th>user_useful</th>\n",
       "      <th>user_funny</th>\n",
       "      <th>user_cool</th>\n",
       "      <th>user_fans</th>\n",
       "      <th>user_elite</th>\n",
       "      <th>user_average_stars</th>\n",
       "      <th>user_compliment_hot</th>\n",
       "      <th>user_compliment_more</th>\n",
       "      <th>user_compliment_profile</th>\n",
       "      <th>user_compliment_cute</th>\n",
       "      <th>user_compliment_list</th>\n",
       "      <th>user_compliment_note</th>\n",
       "      <th>user_compliment_plain</th>\n",
       "      <th>user_compliment_cool</th>\n",
       "      <th>user_compliment_funny</th>\n",
       "      <th>user_compliment_writer</th>\n",
       "      <th>user_compliment_photos</th>\n",
       "    </tr>\n",
       "  </thead>\n",
       "  <tbody>\n",
       "    <tr>\n",
       "      <th>0</th>\n",
       "      <td>qVc8ODYU5SZjKXVBgXdI7w</td>\n",
       "      <td>Walker</td>\n",
       "      <td>585</td>\n",
       "      <td>2007-01-25 16:47:26</td>\n",
       "      <td>NSCy54eWehBJyZdG2iE84w, pe42u7DcCH2QmI81NX-8qA...</td>\n",
       "      <td>7217</td>\n",
       "      <td>1259</td>\n",
       "      <td>5994</td>\n",
       "      <td>267</td>\n",
       "      <td>2007</td>\n",
       "      <td>3.91</td>\n",
       "      <td>250</td>\n",
       "      <td>65</td>\n",
       "      <td>55</td>\n",
       "      <td>56</td>\n",
       "      <td>18</td>\n",
       "      <td>232</td>\n",
       "      <td>844</td>\n",
       "      <td>467</td>\n",
       "      <td>467</td>\n",
       "      <td>239</td>\n",
       "      <td>180</td>\n",
       "    </tr>\n",
       "    <tr>\n",
       "      <th>1</th>\n",
       "      <td>j14WgRoU_-2ZE1aw1dXrJg</td>\n",
       "      <td>Daniel</td>\n",
       "      <td>4333</td>\n",
       "      <td>2009-01-25 04:35:42</td>\n",
       "      <td>ueRPE0CX75ePGMqOFVj6IQ, 52oH4DrRvzzl8wh5UXyU0A...</td>\n",
       "      <td>43091</td>\n",
       "      <td>13066</td>\n",
       "      <td>27281</td>\n",
       "      <td>3138</td>\n",
       "      <td>2009,2010,2011,2012,2013,2014,2015,2016,2017,2...</td>\n",
       "      <td>3.74</td>\n",
       "      <td>1145</td>\n",
       "      <td>264</td>\n",
       "      <td>184</td>\n",
       "      <td>157</td>\n",
       "      <td>251</td>\n",
       "      <td>1847</td>\n",
       "      <td>7054</td>\n",
       "      <td>3131</td>\n",
       "      <td>3131</td>\n",
       "      <td>1521</td>\n",
       "      <td>1946</td>\n",
       "    </tr>\n",
       "    <tr>\n",
       "      <th>2</th>\n",
       "      <td>2WnXYQFK0hXEoTxPtV2zvg</td>\n",
       "      <td>Steph</td>\n",
       "      <td>665</td>\n",
       "      <td>2008-07-25 10:41:00</td>\n",
       "      <td>LuO3Bn4f3rlhyHIaNfTlnA, j9B4XdHUhDfTKVecyWQgyA...</td>\n",
       "      <td>2086</td>\n",
       "      <td>1010</td>\n",
       "      <td>1003</td>\n",
       "      <td>52</td>\n",
       "      <td>2009,2010,2011,2012,2013</td>\n",
       "      <td>3.32</td>\n",
       "      <td>89</td>\n",
       "      <td>13</td>\n",
       "      <td>10</td>\n",
       "      <td>17</td>\n",
       "      <td>3</td>\n",
       "      <td>66</td>\n",
       "      <td>96</td>\n",
       "      <td>119</td>\n",
       "      <td>119</td>\n",
       "      <td>35</td>\n",
       "      <td>18</td>\n",
       "    </tr>\n",
       "    <tr>\n",
       "      <th>3</th>\n",
       "      <td>SZDeASXq7o05mMNLshsdIA</td>\n",
       "      <td>Gwen</td>\n",
       "      <td>224</td>\n",
       "      <td>2005-11-29 04:38:33</td>\n",
       "      <td>enx1vVPnfdNUdPho6PH_wg, 4wOcvMLtU6a9Lslggq74Vg...</td>\n",
       "      <td>512</td>\n",
       "      <td>330</td>\n",
       "      <td>299</td>\n",
       "      <td>28</td>\n",
       "      <td>2009,2010,2011</td>\n",
       "      <td>4.27</td>\n",
       "      <td>24</td>\n",
       "      <td>4</td>\n",
       "      <td>1</td>\n",
       "      <td>6</td>\n",
       "      <td>2</td>\n",
       "      <td>12</td>\n",
       "      <td>16</td>\n",
       "      <td>26</td>\n",
       "      <td>26</td>\n",
       "      <td>10</td>\n",
       "      <td>9</td>\n",
       "    </tr>\n",
       "    <tr>\n",
       "      <th>4</th>\n",
       "      <td>hA5lMy-EnncsH4JoR-hFGQ</td>\n",
       "      <td>Karen</td>\n",
       "      <td>79</td>\n",
       "      <td>2007-01-05 19:40:59</td>\n",
       "      <td>PBK4q9KEEBHhFvSXCUirIw, 3FWPpM7KU1gXeOM_ZbYMbA...</td>\n",
       "      <td>29</td>\n",
       "      <td>15</td>\n",
       "      <td>7</td>\n",
       "      <td>1</td>\n",
       "      <td>NaN</td>\n",
       "      <td>3.54</td>\n",
       "      <td>1</td>\n",
       "      <td>1</td>\n",
       "      <td>0</td>\n",
       "      <td>0</td>\n",
       "      <td>0</td>\n",
       "      <td>1</td>\n",
       "      <td>1</td>\n",
       "      <td>0</td>\n",
       "      <td>0</td>\n",
       "      <td>0</td>\n",
       "      <td>0</td>\n",
       "    </tr>\n",
       "  </tbody>\n",
       "</table>\n",
       "</div>"
      ],
      "text/plain": [
       "                  user_id user_name  user_review_count   user_yelping_since                                       user_friends  user_useful  user_funny  user_cool  user_fans                                         user_elite  user_average_stars  user_compliment_hot  user_compliment_more  user_compliment_profile  user_compliment_cute  user_compliment_list  user_compliment_note  user_compliment_plain  user_compliment_cool  user_compliment_funny  user_compliment_writer  user_compliment_photos\n",
       "0  qVc8ODYU5SZjKXVBgXdI7w    Walker                585  2007-01-25 16:47:26  NSCy54eWehBJyZdG2iE84w, pe42u7DcCH2QmI81NX-8qA...         7217        1259       5994        267                                               2007                3.91                  250                    65                       55                    56                    18                   232                    844                   467                    467                     239                     180\n",
       "1  j14WgRoU_-2ZE1aw1dXrJg    Daniel               4333  2009-01-25 04:35:42  ueRPE0CX75ePGMqOFVj6IQ, 52oH4DrRvzzl8wh5UXyU0A...        43091       13066      27281       3138  2009,2010,2011,2012,2013,2014,2015,2016,2017,2...                3.74                 1145                   264                      184                   157                   251                  1847                   7054                  3131                   3131                    1521                    1946\n",
       "2  2WnXYQFK0hXEoTxPtV2zvg     Steph                665  2008-07-25 10:41:00  LuO3Bn4f3rlhyHIaNfTlnA, j9B4XdHUhDfTKVecyWQgyA...         2086        1010       1003         52                           2009,2010,2011,2012,2013                3.32                   89                    13                       10                    17                     3                    66                     96                   119                    119                      35                      18\n",
       "3  SZDeASXq7o05mMNLshsdIA      Gwen                224  2005-11-29 04:38:33  enx1vVPnfdNUdPho6PH_wg, 4wOcvMLtU6a9Lslggq74Vg...          512         330        299         28                                     2009,2010,2011                4.27                   24                     4                        1                     6                     2                    12                     16                    26                     26                      10                       9\n",
       "4  hA5lMy-EnncsH4JoR-hFGQ     Karen                 79  2007-01-05 19:40:59  PBK4q9KEEBHhFvSXCUirIw, 3FWPpM7KU1gXeOM_ZbYMbA...           29          15          7          1                                                NaN                3.54                    1                     1                        0                     0                     0                     1                      1                     0                      0                       0                       0"
      ]
     },
     "execution_count": 5,
     "metadata": {},
     "output_type": "execute_result"
    }
   ],
   "source": [
    "user_df = user_df.rename(columns={\n",
    "    'name': 'user_name',\n",
    "    'review_count': 'user_review_count',\n",
    "    'yelping_since': 'user_yelping_since',\n",
    "    'friends': 'user_friends',\n",
    "    'useful': 'user_useful',\n",
    "    'useful': 'user_useful',\n",
    "    'funny': 'user_funny',\n",
    "    'cool': 'user_cool',\n",
    "    'fans': 'user_fans',\n",
    "    'elite': 'user_elite',\n",
    "    'average_stars': 'user_average_stars',\n",
    "    'compliment_hot': 'user_compliment_hot',\n",
    "    'compliment_more': 'user_compliment_more',\n",
    "    'compliment_profile': 'user_compliment_profile',\n",
    "    'compliment_cute': 'user_compliment_cute',\n",
    "    'compliment_list': 'user_compliment_list',\n",
    "    'compliment_note': 'user_compliment_note',\n",
    "    'compliment_plain': 'user_compliment_plain',\n",
    "    'compliment_cool': 'user_compliment_cool',\n",
    "    'compliment_funny': 'user_compliment_funny',\n",
    "    'compliment_writer': 'user_compliment_writer',\n",
    "    'compliment_photos': 'user_compliment_photos',\n",
    "})\n",
    "user_df.head()"
   ]
  },
  {
   "cell_type": "markdown",
   "metadata": {},
   "source": [
    "## 2.3 Renaming of columns in checkin_df.csv"
   ]
  },
  {
   "cell_type": "code",
   "execution_count": 6,
   "metadata": {},
   "outputs": [],
   "source": [
    "# checkin_df  = checkin_df.rename(columns={\n",
    "#     'date' : 'checkin_date'\n",
    "# })\n",
    "# checkin_df.head()"
   ]
  },
  {
   "cell_type": "markdown",
   "metadata": {},
   "source": [
    "## 2.4 Renaming of columns in tip_df.csv"
   ]
  },
  {
   "cell_type": "code",
   "execution_count": 7,
   "metadata": {},
   "outputs": [
    {
     "data": {
      "text/html": [
       "<div>\n",
       "<style scoped>\n",
       "    .dataframe tbody tr th:only-of-type {\n",
       "        vertical-align: middle;\n",
       "    }\n",
       "\n",
       "    .dataframe tbody tr th {\n",
       "        vertical-align: top;\n",
       "    }\n",
       "\n",
       "    .dataframe thead th {\n",
       "        text-align: right;\n",
       "    }\n",
       "</style>\n",
       "<table border=\"1\" class=\"dataframe\">\n",
       "  <thead>\n",
       "    <tr style=\"text-align: right;\">\n",
       "      <th></th>\n",
       "      <th>tip_text</th>\n",
       "      <th>tip_date</th>\n",
       "      <th>tip_compliment_count</th>\n",
       "      <th>business_id</th>\n",
       "      <th>user_id</th>\n",
       "    </tr>\n",
       "  </thead>\n",
       "  <tbody>\n",
       "    <tr>\n",
       "      <th>0</th>\n",
       "      <td>Avengers time with the ladies.</td>\n",
       "      <td>2012-05-18 02:17:21</td>\n",
       "      <td>0</td>\n",
       "      <td>3uLgwr0qeCNMjKenHJwPGQ</td>\n",
       "      <td>AGNUgVwnZUey3gcPCJ76iw</td>\n",
       "    </tr>\n",
       "    <tr>\n",
       "      <th>1</th>\n",
       "      <td>They have lots of good deserts and tasty cuban...</td>\n",
       "      <td>2013-02-05 18:35:10</td>\n",
       "      <td>0</td>\n",
       "      <td>QoezRbYQncpRqyrLH6Iqjg</td>\n",
       "      <td>NBN4MgHP9D3cw--SnauTkA</td>\n",
       "    </tr>\n",
       "    <tr>\n",
       "      <th>2</th>\n",
       "      <td>It's open even when you think it isn't</td>\n",
       "      <td>2013-08-18 00:56:08</td>\n",
       "      <td>0</td>\n",
       "      <td>MYoRNLb5chwjQe3c_k37Gg</td>\n",
       "      <td>-copOvldyKh1qr-vzkDEvw</td>\n",
       "    </tr>\n",
       "    <tr>\n",
       "      <th>3</th>\n",
       "      <td>Very decent fried chicken</td>\n",
       "      <td>2017-06-27 23:05:38</td>\n",
       "      <td>0</td>\n",
       "      <td>hV-bABTK-glh5wj31ps_Jw</td>\n",
       "      <td>FjMQVZjSqY8syIO-53KFKw</td>\n",
       "    </tr>\n",
       "    <tr>\n",
       "      <th>4</th>\n",
       "      <td>Appetizers.. platter special for lunch</td>\n",
       "      <td>2012-10-06 19:43:09</td>\n",
       "      <td>0</td>\n",
       "      <td>_uN0OudeJ3Zl_tf6nxg5ww</td>\n",
       "      <td>ld0AperBXk1h6UbqmM80zw</td>\n",
       "    </tr>\n",
       "  </tbody>\n",
       "</table>\n",
       "</div>"
      ],
      "text/plain": [
       "                                            tip_text             tip_date  tip_compliment_count             business_id                 user_id\n",
       "0                     Avengers time with the ladies.  2012-05-18 02:17:21                     0  3uLgwr0qeCNMjKenHJwPGQ  AGNUgVwnZUey3gcPCJ76iw\n",
       "1  They have lots of good deserts and tasty cuban...  2013-02-05 18:35:10                     0  QoezRbYQncpRqyrLH6Iqjg  NBN4MgHP9D3cw--SnauTkA\n",
       "2             It's open even when you think it isn't  2013-08-18 00:56:08                     0  MYoRNLb5chwjQe3c_k37Gg  -copOvldyKh1qr-vzkDEvw\n",
       "3                          Very decent fried chicken  2017-06-27 23:05:38                     0  hV-bABTK-glh5wj31ps_Jw  FjMQVZjSqY8syIO-53KFKw\n",
       "4             Appetizers.. platter special for lunch  2012-10-06 19:43:09                     0  _uN0OudeJ3Zl_tf6nxg5ww  ld0AperBXk1h6UbqmM80zw"
      ]
     },
     "execution_count": 7,
     "metadata": {},
     "output_type": "execute_result"
    }
   ],
   "source": [
    "tip_df = tip_df.rename(columns={\n",
    "    'text': 'tip_text',\n",
    "    'date': 'tip_date',\n",
    "    'compliment_count': 'tip_compliment_count',\n",
    "})\n",
    "tip_df.head()"
   ]
  },
  {
   "cell_type": "markdown",
   "metadata": {},
   "source": [
    "## 2.5 Renaming of columns in business_df.csv"
   ]
  },
  {
   "cell_type": "code",
   "execution_count": 8,
   "metadata": {},
   "outputs": [],
   "source": [
    "business_df = business_df.rename(columns={\n",
    "    'name' : 'business_name',\n",
    "    'address' : 'business_address',\n",
    "    'city' : 'business_city',\n",
    "    'state' : 'business_state',\n",
    "    'postal_code' : 'business_postal_code',\n",
    "    'latitude' : 'business_latitude',\n",
    "    'longitude' : 'business_longitude',\n",
    "    'stars' : 'business_stars',\n",
    "    'review_count' : 'business_review_count',\n",
    "    'is_open' : 'business_is_open',\n",
    "    'attributes' : 'business_attributes',\n",
    "    'categories' : 'business_categories',\n",
    "    'hours' : 'business_hours'\n",
    "})"
   ]
  },
  {
   "cell_type": "markdown",
   "metadata": {},
   "source": [
    "# 4. Merging all DataFrames into a single DataFrame"
   ]
  },
  {
   "cell_type": "code",
   "execution_count": 9,
   "metadata": {},
   "outputs": [],
   "source": [
    "# Combine review_df & user_df\n",
    "df = pd.merge(review_df, user_df, on='user_id', how='inner')\n",
    "\n",
    "# Combine review_df & user_df & tip_df\n",
    "df = pd.merge(df, tip_df, on=['business_id', 'user_id'], how='inner')\n",
    "\n",
    "# Combine review_df & user_df & tip_df & business_df\n",
    "df = pd.merge(df, business_df, on='business_id', how='inner')"
   ]
  },
  {
   "cell_type": "code",
   "execution_count": 10,
   "metadata": {},
   "outputs": [
    {
     "name": "stdout",
     "output_type": "stream",
     "text": [
      "All data columns: ['review_id', 'user_id', 'business_id', 'review_stars', 'review_date', 'review_text', 'review_useful', 'review_funny', 'review_cool', 'user_name', 'user_review_count', 'user_yelping_since', 'user_friends', 'user_useful', 'user_funny', 'user_cool', 'user_fans', 'user_elite', 'user_average_stars', 'user_compliment_hot', 'user_compliment_more', 'user_compliment_profile', 'user_compliment_cute', 'user_compliment_list', 'user_compliment_note', 'user_compliment_plain', 'user_compliment_cool', 'user_compliment_funny', 'user_compliment_writer', 'user_compliment_photos', 'tip_text', 'tip_date', 'tip_compliment_count', 'business_name', 'business_address', 'business_city', 'business_state', 'business_postal_code', 'business_latitude', 'business_longitude', 'business_stars', 'business_review_count', 'business_is_open', 'business_attributes', 'business_categories', 'business_hours']\n",
      "Total number of columns: 46\n",
      "Total number of records: 440640\n"
     ]
    }
   ],
   "source": [
    "print(\"All data columns:\", df.columns.tolist())\n",
    "print(\"Total number of columns:\", len(df.columns))\n",
    "print(\"Total number of records:\", len(df))"
   ]
  },
  {
   "cell_type": "markdown",
   "metadata": {},
   "source": [
    "# 5. Basic cleaning"
   ]
  },
  {
   "cell_type": "markdown",
   "metadata": {},
   "source": [
    "## 5.1 Selecting the final columns"
   ]
  },
  {
   "cell_type": "code",
   "execution_count": 11,
   "metadata": {},
   "outputs": [],
   "source": [
    "cleaned_df = df[[\"review_id\", \"review_stars\", \"review_date\", \"review_text\", \"review_useful\", \"review_funny\", \"review_cool\", \"user_name\", \"user_review_count\", \"user_yelping_since\", \"user_useful\", \"user_funny\", \"user_cool\", \"user_fans\", \"user_elite\", \"user_average_stars\", \"user_compliment_hot\", \"user_compliment_more\", \"user_compliment_profile\", \"user_compliment_cute\", \"user_compliment_list\", \"user_compliment_note\", \"user_compliment_plain\", \"user_compliment_cool\", \"user_compliment_funny\", \"user_compliment_writer\", \"user_compliment_photos\", \"tip_text\", \"tip_date\", \"tip_compliment_count\", \"business_name\", \"business_state\", \"business_stars\", \"business_review_count\", \"business_categories\"]]"
   ]
  },
  {
   "cell_type": "markdown",
   "metadata": {},
   "source": [
    "## 5.2 Convert timestamp to datetime objects"
   ]
  },
  {
   "cell_type": "code",
   "execution_count": 12,
   "metadata": {},
   "outputs": [
    {
     "name": "stderr",
     "output_type": "stream",
     "text": [
      "/var/folders/65/tfbhbzks1fs0pv0gc822ry700000gn/T/ipykernel_20843/2592436776.py:1: SettingWithCopyWarning: \n",
      "A value is trying to be set on a copy of a slice from a DataFrame.\n",
      "Try using .loc[row_indexer,col_indexer] = value instead\n",
      "\n",
      "See the caveats in the documentation: https://pandas.pydata.org/pandas-docs/stable/user_guide/indexing.html#returning-a-view-versus-a-copy\n",
      "  cleaned_df[\"review_date\"] = pd.to_datetime(cleaned_df[\"review_date\"])\n",
      "/var/folders/65/tfbhbzks1fs0pv0gc822ry700000gn/T/ipykernel_20843/2592436776.py:2: SettingWithCopyWarning: \n",
      "A value is trying to be set on a copy of a slice from a DataFrame.\n",
      "Try using .loc[row_indexer,col_indexer] = value instead\n",
      "\n",
      "See the caveats in the documentation: https://pandas.pydata.org/pandas-docs/stable/user_guide/indexing.html#returning-a-view-versus-a-copy\n",
      "  cleaned_df[\"user_yelping_since\"] = pd.to_datetime(cleaned_df[\"user_yelping_since\"])\n"
     ]
    }
   ],
   "source": [
    "cleaned_df[\"review_date\"] = pd.to_datetime(cleaned_df[\"review_date\"])\n",
    "cleaned_df[\"user_yelping_since\"] = pd.to_datetime(cleaned_df[\"user_yelping_since\"])"
   ]
  },
  {
   "cell_type": "markdown",
   "metadata": {},
   "source": [
    "## 5.3 Dropping NAs and Duplicates"
   ]
  },
  {
   "cell_type": "code",
   "execution_count": 13,
   "metadata": {},
   "outputs": [
    {
     "name": "stdout",
     "output_type": "stream",
     "text": [
      "Before dropping NAs: 440640\n",
      "After dropping NAs: 204768\n",
      "After dropping duplicates: 204766\n"
     ]
    }
   ],
   "source": [
    "print(\"Before dropping NAs:\", len(cleaned_df))\n",
    "cleaned_df = cleaned_df.dropna()\n",
    "print(\"After dropping NAs:\",len(cleaned_df))\n",
    "cleaned_df = cleaned_df.drop_duplicates()\n",
    "print(\"After dropping duplicates:\",len(cleaned_df))"
   ]
  },
  {
   "cell_type": "markdown",
   "metadata": {},
   "source": [
    "# Export combined DF into CSV"
   ]
  },
  {
   "cell_type": "code",
   "execution_count": 14,
   "metadata": {},
   "outputs": [],
   "source": [
    "cleaned_df.to_csv('output.csv', index=False)"
   ]
  },
  {
   "cell_type": "markdown",
   "metadata": {},
   "source": []
  }
 ],
 "metadata": {
  "kernelspec": {
   "display_name": "Python 3",
   "language": "python",
   "name": "python3"
  },
  "language_info": {
   "codemirror_mode": {
    "name": "ipython",
    "version": 3
   },
   "file_extension": ".py",
   "mimetype": "text/x-python",
   "name": "python",
   "nbconvert_exporter": "python",
   "pygments_lexer": "ipython3",
   "version": "3.9.12"
  }
 },
 "nbformat": 4,
 "nbformat_minor": 2
}
