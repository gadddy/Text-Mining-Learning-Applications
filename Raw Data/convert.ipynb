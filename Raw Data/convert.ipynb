{
 "cells": [
  {
   "cell_type": "markdown",
   "metadata": {},
   "source": [
    "# 1. Importing Libraries\n",
    "Load all necessary libraries"
   ]
  },
  {
   "cell_type": "code",
   "execution_count": null,
   "metadata": {},
   "outputs": [],
   "source": [
    "import pandas as pd\n",
    "import json\n",
    "import csv\n",
    "pd.set_option('display.max_rows', 100)\n",
    "pd.set_option('display.max_columns', 100)\n",
    "pd.set_option('display.width', 1000)"
   ]
  },
  {
   "cell_type": "markdown",
   "metadata": {},
   "source": [
    "# 2. Converting JSON to CSV"
   ]
  },
  {
   "cell_type": "code",
   "execution_count": null,
   "metadata": {},
   "outputs": [],
   "source": [
    "def json_to_csv(input_file, output_file, headers):\n",
    "    with open(input_file, 'r', encoding='utf-8') as f, open(output_file, 'w', newline='', encoding='utf-8') as csv_file:\n",
    "        writer = csv.DictWriter(csv_file, fieldnames=headers)\n",
    "        writer.writeheader()\n",
    "        \n",
    "        for line in f:\n",
    "            # Skip empty lines\n",
    "            if not line.strip():\n",
    "                continue\n",
    "            \n",
    "            # Load JSON object from the line\n",
    "            data = json.loads(line)\n",
    "            writer.writerow(data)"
   ]
  },
  {
   "cell_type": "markdown",
   "metadata": {},
   "source": [
    "## 2.1 review.json -> review_data.csv"
   ]
  },
  {
   "cell_type": "code",
   "execution_count": null,
   "metadata": {},
   "outputs": [],
   "source": [
    "review_headers = [\n",
    "    \"review_id\",\n",
    "    \"user_id\",\n",
    "    \"business_id\",\n",
    "    \"stars\",\n",
    "    \"date\",\n",
    "    \"text\",\n",
    "    \"useful\",\n",
    "    \"funny\",\n",
    "    \"cool\"\n",
    "]\n",
    "json_to_csv('review.json', 'review_data.csv', review_headers)"
   ]
  },
  {
   "cell_type": "markdown",
   "metadata": {},
   "source": [
    "## 2.2 user.json -> user_data.csv"
   ]
  },
  {
   "cell_type": "code",
   "execution_count": null,
   "metadata": {},
   "outputs": [],
   "source": [
    "user_headers = [\n",
    "    \"user_id\",\n",
    "    \"name\",\n",
    "    \"review_count\",\n",
    "    \"yelping_since\",\n",
    "    \"friends\",\n",
    "    \"useful\",\n",
    "    \"funny\",\n",
    "    \"cool\",\n",
    "    \"fans\",\n",
    "    \"elite\",\n",
    "    \"average_stars\",\n",
    "    \"compliment_hot\",\n",
    "    \"compliment_more\",\n",
    "    \"compliment_profile\",\n",
    "    \"compliment_cute\",\n",
    "    \"compliment_list\",\n",
    "    \"compliment_note\",\n",
    "    \"compliment_plain\",\n",
    "    \"compliment_cool\",\n",
    "    \"compliment_funny\",\n",
    "    \"compliment_writer\",\n",
    "    \"compliment_photos\"\n",
    "]\n",
    "json_to_csv('user.json', 'user_data.csv', user_headers)"
   ]
  },
  {
   "cell_type": "markdown",
   "metadata": {},
   "source": [
    "## 2.3 checkin.json -> checkin_data.csv"
   ]
  },
  {
   "cell_type": "code",
   "execution_count": null,
   "metadata": {},
   "outputs": [],
   "source": [
    "checkin_headers = [\n",
    "    \"business_id\",\n",
    "    \"date\"\n",
    "]\n",
    "json_to_csv('checkin.json', 'checkin_data.csv', checkin_headers)"
   ]
  },
  {
   "cell_type": "markdown",
   "metadata": {},
   "source": [
    "## 2.4 tip.json -> tip_data.csv"
   ]
  },
  {
   "cell_type": "code",
   "execution_count": null,
   "metadata": {},
   "outputs": [],
   "source": [
    "tip_headers = [\n",
    "    \"text\",\n",
    "    \"date\",\n",
    "    \"compliment_count\",\n",
    "    \"business_id\",\n",
    "    \"user_id\"\n",
    "]\n",
    "json_to_csv('tip.json', 'tip_data.csv', tip_headers)"
   ]
  },
  {
   "cell_type": "markdown",
   "metadata": {},
   "source": [
    "## 2.5 business.json -> business_data.csv"
   ]
  },
  {
   "cell_type": "code",
   "execution_count": null,
   "metadata": {},
   "outputs": [],
   "source": [
    "business_headers = [\n",
    "    \"business_id\",\n",
    "    \"name\",\n",
    "    \"address\",\n",
    "    \"city\",\n",
    "    \"state\",\n",
    "    \"postal_code\",\n",
    "    \"latitude\",\n",
    "    \"longitude\",\n",
    "    \"stars\",\n",
    "    \"review_count\",\n",
    "    \"is_open\",\n",
    "    \"attributes\",\n",
    "    \"categories\",\n",
    "    \"hours\"\n",
    "]\n",
    "json_to_csv('business.json', 'business_data.csv', business_headers)"
   ]
  }
 ],
 "metadata": {
  "kernelspec": {
   "display_name": "Python 3",
   "language": "python",
   "name": "python3"
  },
  "language_info": {
   "codemirror_mode": {
    "name": "ipython",
    "version": 3
   },
   "file_extension": ".py",
   "mimetype": "text/x-python",
   "name": "python",
   "nbconvert_exporter": "python",
   "pygments_lexer": "ipython3",
   "version": "3.9.12"
  }
 },
 "nbformat": 4,
 "nbformat_minor": 2
}
